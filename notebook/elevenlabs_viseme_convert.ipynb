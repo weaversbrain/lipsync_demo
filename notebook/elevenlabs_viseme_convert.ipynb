{
 "cells": [
  {
   "cell_type": "code",
   "execution_count": 28,
   "id": "2282d555-6d37-4be8-8123-5a75940ef0a7",
   "metadata": {},
   "outputs": [],
   "source": [
    "sentence = \"Hello world. Nice to meet you. I want to become your friend. Hello again.\""
   ]
  },
  {
   "cell_type": "code",
   "execution_count": null,
   "id": "2afa506e",
   "metadata": {},
   "outputs": [],
   "source": []
  },
  {
   "cell_type": "code",
   "execution_count": 29,
   "id": "92de6c09-215f-4ef0-ab7f-2962f056d94c",
   "metadata": {},
   "outputs": [],
   "source": [
    "alignment = {\n",
    "    \"characters\": [\n",
    "        \"H\", \"e\", \"l\", \"l\", \"o\", \" \", \"w\", \"o\", \"r\", \"l\", \"d\", \".\", \" \", \"N\", \"i\", \"c\", \"e\", \" \", \"t\", \"o\", \" \",\n",
    "        \"m\", \"e\", \"e\", \"t\", \" \", \"y\", \"o\", \"u\", \".\", \" \", \"I\", \" \", \"w\", \"a\", \"n\", \"t\", \" \", \"t\", \"o\", \" \", \"b\",\n",
    "        \"e\", \"c\", \"o\", \"m\", \"e\", \" \", \"y\", \"o\", \"u\", \"r\", \" \", \"f\", \"r\", \"i\", \"e\", \"n\", \"d\", \".\", \" \", \"H\", \"e\",\n",
    "        \"l\", \"l\", \"o\", \" \", \"a\", \"g\", \"a\", \"i\", \"n\", \".\"\n",
    "    ],\n",
    "    \"characterStartTimesSeconds\": [\n",
    "        0, 0.163, 0.244, 0.279, 0.337, 0.43, 0.522, 0.569, 0.662, 0.743, 0.836, 0.987, 1.057, 1.207, 1.3, 1.393, 1.451,\n",
    "        1.498, 1.544, 1.567, 1.602, 1.66, 1.695, 1.753, 1.8, 1.846, 1.904, 1.939, 1.974, 2.09, 2.241, 2.415, 2.473, 2.566,\n",
    "        2.601, 2.67, 2.728, 2.763, 2.81, 2.833, 2.868, 2.926, 2.961, 3.019, 3.088, 3.146, 3.193, 3.228, 3.262, 3.286, 3.309,\n",
    "        3.355, 3.39, 3.448, 3.483, 3.576, 3.646, 3.68, 3.738, 3.889, 3.982, 4.156, 4.214, 4.296, 4.331, 4.389, 4.47, 4.551,\n",
    "        4.609, 4.679, 4.772, 4.83, 4.981\n",
    "    ],\n",
    "    \"characterEndTimesSeconds\": [\n",
    "        0.163, 0.244, 0.279, 0.337, 0.43, 0.522, 0.569, 0.662, 0.743, 0.836, 0.987, 1.057, 1.207, 1.3, 1.393, 1.451, 1.498,\n",
    "        1.544, 1.567, 1.602, 1.66, 1.695, 1.753, 1.8, 1.846, 1.904, 1.939, 1.974, 2.09, 2.241, 2.415, 2.473, 2.566, 2.601, 2.67,\n",
    "        2.728, 2.763, 2.81, 2.833, 2.868, 2.926, 2.961, 3.019, 3.088, 3.146, 3.193, 3.228, 3.262, 3.286, 3.309, 3.355, 3.39,\n",
    "        3.448, 3.483, 3.576, 3.646, 3.68, 3.738, 3.889, 3.982, 4.156, 4.214, 4.296, 4.331, 4.389, 4.47, 4.551, 4.609, 4.679, 4.772, 4.83, 4.981, 5.294\n",
    "    ]\n",
    "}"
   ]
  },
  {
   "cell_type": "code",
   "execution_count": 30,
   "id": "c4ee0a28-0515-4deb-b07c-09707bf421dd",
   "metadata": {},
   "outputs": [
    {
     "data": {
      "text/plain": [
       "73"
      ]
     },
     "execution_count": 30,
     "metadata": {},
     "output_type": "execute_result"
    }
   ],
   "source": [
    "len(alignment[\"characterStartTimesSeconds\"])"
   ]
  },
  {
   "cell_type": "code",
   "execution_count": null,
   "id": "ad093e64-4397-4e90-9136-97fcc37a7d22",
   "metadata": {},
   "outputs": [],
   "source": []
  },
  {
   "cell_type": "code",
   "execution_count": 58,
   "id": "f9fc8ee7-f4da-4557-9ea5-0269670c56b7",
   "metadata": {},
   "outputs": [],
   "source": [
    "import pronouncing\n",
    "import re\n",
    "\n",
    "def get_word_time_list(text, alignment):\n",
    "    word_time_list = [] \n",
    "    viseme_sequence = []\n",
    "    for match in re.finditer(r\"\\b\\w+\\b\", text):\n",
    "        word = match.group(0).lower()\n",
    "        phones = pronouncing.phones_for_word(word)[0].split(\" \")\n",
    "        phones = [re.sub(r\"\\d+\", \"\", x) for x in phones]\n",
    "        visemes = [PHONEME_TO_VISEME[x] for x in phones]\n",
    "        word_start_idx = match.start()\n",
    "\n",
    "        prev_viseme = None\n",
    "        for i, viseme in enumerate(visemes):\n",
    "            if viseme == prev_viseme:\n",
    "                continue\n",
    "            start_time = alignment[\"characterStartTimesSeconds\"][word_start_idx + i]\n",
    "            viseme_sequence.append((viseme, int(start_time * 1000)))\n",
    "            prev_viseme = viseme\n",
    "        word_end_time = alignment[\"characterEndTimesSeconds\"][word_start_idx + len(word) - 1]\n",
    "        viseme_sequence.append((0, int(word_end_time * 1000)))\n",
    "    return viseme_sequence"
   ]
  },
  {
   "cell_type": "code",
   "execution_count": 59,
   "id": "d751e883-840f-4b38-8358-774f1f6abb00",
   "metadata": {},
   "outputs": [
    {
     "data": {
      "text/plain": [
       "'Hello world. Nice to meet you. I want to become your friend. Hello again.'"
      ]
     },
     "execution_count": 59,
     "metadata": {},
     "output_type": "execute_result"
    }
   ],
   "source": [
    "sentence"
   ]
  },
  {
   "cell_type": "code",
   "execution_count": 60,
   "id": "45da27e9-04a2-48f1-b8f1-a66df3bbf057",
   "metadata": {},
   "outputs": [
    {
     "data": {
      "text/plain": [
       "[(1, 0),\n",
       " (5, 244),\n",
       " (7, 279),\n",
       " (0, 430),\n",
       " (11, 522),\n",
       " (7, 569),\n",
       " (5, 662),\n",
       " (2, 743),\n",
       " (0, 987),\n",
       " (2, 1207),\n",
       " (1, 1300),\n",
       " (9, 1393),\n",
       " (0, 1498),\n",
       " (2, 1544),\n",
       " (11, 1567),\n",
       " (0, 1602),\n",
       " (6, 1660),\n",
       " (3, 1695),\n",
       " (2, 1753),\n",
       " (0, 1846),\n",
       " (3, 1904),\n",
       " (11, 1939),\n",
       " (0, 2090),\n",
       " (1, 2415),\n",
       " (0, 2473),\n",
       " (11, 2566),\n",
       " (1, 2601),\n",
       " (2, 2670),\n",
       " (0, 2763),\n",
       " (2, 2810),\n",
       " (11, 2833),\n",
       " (0, 2868),\n",
       " (6, 2926),\n",
       " (3, 2961),\n",
       " (2, 3019),\n",
       " (1, 3088),\n",
       " (6, 3146),\n",
       " (0, 3228),\n",
       " (3, 3262),\n",
       " (1, 3286),\n",
       " (8, 3309),\n",
       " (0, 3390),\n",
       " (4, 3448),\n",
       " (8, 3483),\n",
       " (3, 3576),\n",
       " (2, 3646),\n",
       " (0, 3889),\n",
       " (1, 4156),\n",
       " (5, 4296),\n",
       " (7, 4331),\n",
       " (0, 4470),\n",
       " (1, 4551),\n",
       " (2, 4609),\n",
       " (3, 4679),\n",
       " (2, 4772),\n",
       " (0, 4981)]"
      ]
     },
     "execution_count": 60,
     "metadata": {},
     "output_type": "execute_result"
    }
   ],
   "source": [
    "get_word_time_list(sentence, alignment)"
   ]
  },
  {
   "cell_type": "code",
   "execution_count": null,
   "id": "bd7e8e1e-2188-4e82-b9a9-efaaf5c550b3",
   "metadata": {},
   "outputs": [],
   "source": []
  },
  {
   "cell_type": "code",
   "execution_count": null,
   "id": "51278438-4c59-4910-90d3-e0904841e79b",
   "metadata": {},
   "outputs": [],
   "source": []
  },
  {
   "cell_type": "code",
   "execution_count": 11,
   "id": "b0aae113-c8a9-4fe1-bd42-81a803854020",
   "metadata": {},
   "outputs": [
    {
     "name": "stdout",
     "output_type": "stream",
     "text": [
      "\u001b[2mResolved \u001b[1m109 packages\u001b[0m \u001b[2min 0.41ms\u001b[0m\u001b[0m\n",
      "\u001b[2mAudited \u001b[1m105 packages\u001b[0m \u001b[2min 0.02ms\u001b[0m\u001b[0m\n"
     ]
    }
   ],
   "source": [
    "!uv add pronouncing"
   ]
  },
  {
   "cell_type": "code",
   "execution_count": 45,
   "id": "94c2bc36-4194-474e-81e9-89eee290ef94",
   "metadata": {},
   "outputs": [],
   "source": [
    "import pronouncing\n",
    "import re\n",
    "\n",
    "def sentence_to_phonemes(sentence):\n",
    "    # Simple tokenization, remove punctuation, convert to lowercase\n",
    "    words = re.findall(r\"\\b\\w+\\b\", sentence.lower())\n",
    "    phoneme_dict = {} \n",
    "    for word in words:\n",
    "        phones = pronouncing.phones_for_word(word)\n",
    "        if phones:\n",
    "            # Use the first pronunciation if multiple exist\n",
    "            phonemes = phones[0].split()\n",
    "            phoneme_dict[word] = phonemes\n",
    "        else:\n",
    "            phoneme_dict[word] = ['<UNK>']  # Unknown word\n",
    "    return phoneme_dict"
   ]
  },
  {
   "cell_type": "code",
   "execution_count": 46,
   "id": "7b554785-6446-4ee0-b0d0-b6c4946c4508",
   "metadata": {},
   "outputs": [
    {
     "data": {
      "text/plain": [
       "{'hello': ['HH', 'AH0', 'L', 'OW1'],\n",
       " 'world': ['W', 'ER1', 'L', 'D'],\n",
       " 'nice': ['N', 'AY1', 'S'],\n",
       " 'to': ['T', 'UW1'],\n",
       " 'meet': ['M', 'IY1', 'T'],\n",
       " 'you': ['Y', 'UW1'],\n",
       " 'i': ['AY1'],\n",
       " 'want': ['W', 'AA1', 'N', 'T'],\n",
       " 'become': ['B', 'IH0', 'K', 'AH1', 'M'],\n",
       " 'your': ['Y', 'AO1', 'R'],\n",
       " 'friend': ['F', 'R', 'EH1', 'N', 'D'],\n",
       " 'again': ['AH0', 'G', 'EH1', 'N']}"
      ]
     },
     "execution_count": 46,
     "metadata": {},
     "output_type": "execute_result"
    }
   ],
   "source": [
    "sentence_to_phonemes(sentence)"
   ]
  },
  {
   "cell_type": "code",
   "execution_count": 14,
   "id": "3f52708d-ff24-4f7a-aa68-746abd7e5655",
   "metadata": {},
   "outputs": [
    {
     "ename": "SyntaxError",
     "evalue": "expected ':' (1386205534.py, line 1)",
     "output_type": "error",
     "traceback": [
      "  \u001b[36mCell\u001b[39m\u001b[36m \u001b[39m\u001b[32mIn[14]\u001b[39m\u001b[32m, line 1\u001b[39m\n\u001b[31m    \u001b[39m\u001b[31mdef findWordIndices(sentence, wordList) {\u001b[39m\n                                            ^\n\u001b[31mSyntaxError\u001b[39m\u001b[31m:\u001b[39m expected ':'\n"
     ]
    }
   ],
   "source": []
  },
  {
   "cell_type": "code",
   "execution_count": 44,
   "id": "42b64acb-7501-4380-991b-c57a1f0cd948",
   "metadata": {},
   "outputs": [],
   "source": [
    "PHONEME_TO_VISEME = {\n",
    "    \"AA\": 1, \"AE\": 1, \"AH\": 1, \"AO\": 1, \"AW\": 1, \"AY\": 1, \"HH\": 1, \n",
    "    \"D\": 2,  \"G\": 2,  \"K\": 2,  \"N\": 2,  \"T\": 2,  \"NG\": 2,\n",
    "    \"Y\": 3,  \"EY\": 3, \"EH\": 3, \"IH\": 3,  \"IY\": 3,\n",
    "    \"F\": 4,  \"V\": 4, \n",
    "    \"L\": 5, \n",
    "    \"B\": 6, \"M\": 6,  \"P\": 6, \n",
    "    \"ER\": 7, \"OW\": 7,  \"OY\": 7,\n",
    "    \"R\": 8, \n",
    "    \"S\": 9,  \"Z\": 9, \"CH\": 9,  \"DH\": 9,  \"JH\": 9,  \"SH\": 9, \"TH\": 9,  \"ZH\": 9,\n",
    "    \"UH\": 10, \n",
    "    \"UW\": 11, \"W\": 11\n",
    "}"
   ]
  },
  {
   "cell_type": "code",
   "execution_count": 2,
   "id": "b17c0a26-4853-416b-8522-464cbe4a56ff",
   "metadata": {},
   "outputs": [
    {
     "name": "stdout",
     "output_type": "stream",
     "text": [
      "\u001b[2K\u001b[2mResolved \u001b[1m115 packages\u001b[0m \u001b[2min 325ms\u001b[0m\u001b[0m                                       \u001b[0m\n",
      "\u001b[2K\u001b[2mInstalled \u001b[1m6 packages\u001b[0m \u001b[2min 45ms\u001b[0m\u001b[0m0                               \u001b[0m     \u001b[0m\n",
      " \u001b[32m+\u001b[39m \u001b[1mannotated-types\u001b[0m\u001b[2m==0.7.0\u001b[0m\n",
      " \u001b[32m+\u001b[39m \u001b[1melevenlabs\u001b[0m\u001b[2m==2.8.0\u001b[0m\n",
      " \u001b[32m+\u001b[39m \u001b[1mpydantic\u001b[0m\u001b[2m==2.11.7\u001b[0m\n",
      " \u001b[32m+\u001b[39m \u001b[1mpydantic-core\u001b[0m\u001b[2m==2.33.2\u001b[0m\n",
      " \u001b[32m+\u001b[39m \u001b[1mtyping-inspection\u001b[0m\u001b[2m==0.4.1\u001b[0m\n",
      " \u001b[32m+\u001b[39m \u001b[1mwebsockets\u001b[0m\u001b[2m==15.0.1\u001b[0m\n"
     ]
    }
   ],
   "source": [
    "!uv add elevenlabs"
   ]
  },
  {
   "cell_type": "code",
   "execution_count": 3,
   "id": "29c476ce-f7bd-4f9e-b6de-b379775fc91a",
   "metadata": {},
   "outputs": [],
   "source": [
    "from elevenlabs import ElevenLabs"
   ]
  },
  {
   "cell_type": "code",
   "execution_count": 8,
   "id": "1619ab0b-bd2d-4b26-b20e-5bfd5bff48aa",
   "metadata": {},
   "outputs": [
    {
     "name": "stdout",
     "output_type": "stream",
     "text": [
      "0 1.8750290870666504 <class 'elevenlabs.types.streaming_audio_chunk_with_timestamps_response.StreamingAudioChunkWithTimestampsResponse'>\n",
      "1 1.8763248920440674 <class 'elevenlabs.types.streaming_audio_chunk_with_timestamps_response.StreamingAudioChunkWithTimestampsResponse'>\n",
      "2 1.8769071102142334 <class 'elevenlabs.types.streaming_audio_chunk_with_timestamps_response.StreamingAudioChunkWithTimestampsResponse'>\n",
      "3 1.8822600841522217 <class 'elevenlabs.types.streaming_audio_chunk_with_timestamps_response.StreamingAudioChunkWithTimestampsResponse'>\n",
      "4 1.8976490497589111 <class 'elevenlabs.types.streaming_audio_chunk_with_timestamps_response.StreamingAudioChunkWithTimestampsResponse'>\n",
      "5 1.906360149383545 <class 'elevenlabs.types.streaming_audio_chunk_with_timestamps_response.StreamingAudioChunkWithTimestampsResponse'>\n",
      "6 1.910189151763916 <class 'elevenlabs.types.streaming_audio_chunk_with_timestamps_response.StreamingAudioChunkWithTimestampsResponse'>\n",
      "7 1.916694164276123 <class 'elevenlabs.types.streaming_audio_chunk_with_timestamps_response.StreamingAudioChunkWithTimestampsResponse'>\n",
      "8 1.9261410236358643 <class 'elevenlabs.types.streaming_audio_chunk_with_timestamps_response.StreamingAudioChunkWithTimestampsResponse'>\n",
      "9 1.9301152229309082 <class 'elevenlabs.types.streaming_audio_chunk_with_timestamps_response.StreamingAudioChunkWithTimestampsResponse'>\n",
      "10 1.9416589736938477 <class 'elevenlabs.types.streaming_audio_chunk_with_timestamps_response.StreamingAudioChunkWithTimestampsResponse'>\n",
      "11 1.9525268077850342 <class 'elevenlabs.types.streaming_audio_chunk_with_timestamps_response.StreamingAudioChunkWithTimestampsResponse'>\n",
      "12 1.9605510234832764 <class 'elevenlabs.types.streaming_audio_chunk_with_timestamps_response.StreamingAudioChunkWithTimestampsResponse'>\n",
      "13 1.9721050262451172 <class 'elevenlabs.types.streaming_audio_chunk_with_timestamps_response.StreamingAudioChunkWithTimestampsResponse'>\n",
      "14 1.9728789329528809 <class 'elevenlabs.types.streaming_audio_chunk_with_timestamps_response.StreamingAudioChunkWithTimestampsResponse'>\n",
      "15 1.9757180213928223 <class 'elevenlabs.types.streaming_audio_chunk_with_timestamps_response.StreamingAudioChunkWithTimestampsResponse'>\n",
      "16 1.9843389987945557 <class 'elevenlabs.types.streaming_audio_chunk_with_timestamps_response.StreamingAudioChunkWithTimestampsResponse'>\n"
     ]
    }
   ],
   "source": [
    "import time\n",
    "\n",
    "client = ElevenLabs(\n",
    "    api_key=\"sk_423c17be6c3ebd0b16a7ae2d3d2a79ca929d635d17de40fd\",\n",
    ")\n",
    "response = client.text_to_speech.stream_with_timestamps(\n",
    "    voice_id=\"JBFqnCBsd6RMkjVDRZzb\",\n",
    "    output_format=\"mp3_44100_128\",\n",
    "    text=\"The first move is what sets everything in motion.\",\n",
    "    model_id=\"eleven_multilingual_v2\",\n",
    ")\n",
    "\n",
    "start = time.time()\n",
    "for i, chunk in enumerate(response):\n",
    "    elapsed = time.time() - start\n",
    "    print(i, elapsed, type(chunk))"
   ]
  },
  {
   "cell_type": "code",
   "execution_count": null,
   "id": "789031f1-4cd2-401f-8e80-b540298a0c9d",
   "metadata": {},
   "outputs": [],
   "source": []
  }
 ],
 "metadata": {
  "kernelspec": {
   "display_name": "Python 3 (ipykernel)",
   "language": "python",
   "name": "python3"
  },
  "language_info": {
   "codemirror_mode": {
    "name": "ipython",
    "version": 3
   },
   "file_extension": ".py",
   "mimetype": "text/x-python",
   "name": "python",
   "nbconvert_exporter": "python",
   "pygments_lexer": "ipython3",
   "version": "3.13.0"
  }
 },
 "nbformat": 4,
 "nbformat_minor": 5
}
